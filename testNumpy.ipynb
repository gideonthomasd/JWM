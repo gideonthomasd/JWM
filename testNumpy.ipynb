{
  "nbformat": 4,
  "nbformat_minor": 0,
  "metadata": {
    "colab": {
      "name": "testNumpy.ipynb",
      "provenance": [],
      "collapsed_sections": [],
      "include_colab_link": true
    },
    "kernelspec": {
      "name": "python3",
      "display_name": "Python 3"
    }
  },
  "cells": [
    {
      "cell_type": "markdown",
      "metadata": {
        "id": "view-in-github",
        "colab_type": "text"
      },
      "source": [
        "<a href=\"https://colab.research.google.com/github/gideonthomasd/JWM/blob/master/testNumpy.ipynb\" target=\"_parent\"><img src=\"https://colab.research.google.com/assets/colab-badge.svg\" alt=\"Open In Colab\"/></a>"
      ]
    },
    {
      "cell_type": "code",
      "metadata": {
        "id": "AiwnqWq0IWYO",
        "colab_type": "code",
        "outputId": "dcf49963-581e-4974-c5e7-181b8220997b",
        "colab": {
          "base_uri": "https://localhost:8080/",
          "height": 495
        }
      },
      "source": [
        "import numpy as np\n",
        "import random\n",
        "import turtle\n",
        "\n",
        "#!pip3 install ColabTurtle\n",
        "#from ColabTurtle import *\n",
        "\n",
        "#initializeTurtle()\n",
        "\n",
        "#wn = turtle.Screen()\n",
        "#wn.title(\"Pong\")\n",
        "#wn.bgcolor(\"black\")\n",
        "#wn.setup(width=800, height=600)\n",
        "\n",
        "#while True:\n",
        "  #wn.update()\n",
        "\n",
        "\n",
        "x = np.zeros((3,3,4))\n",
        "\n",
        "print(x)\n",
        "\n",
        "x[0][0][0]=1\n",
        "x[0][0][1]=1\n",
        "x[0][0][2]=1\n",
        "x[0][0][3]=1\n",
        "\n",
        "print(x)\n",
        "print(x[0][0])\n",
        "\n",
        "status = np.zeros((3,3,4))\n",
        "status[0][0][0]=5\n",
        "status[0][0][1]=5\n",
        "status[0][0][2]=3\n",
        "status[0][0][3]=2\n",
        "\n",
        "\n",
        "\n",
        "def findMaxAction(xpos,ypos):\n",
        "  mylists=[]\n",
        "   #x is down y is across\n",
        "  for i in range(4):\n",
        "    if x[xpos][ypos][i]==0:\n",
        "      mylists.append(-1000000)\n",
        "    else:\n",
        "      mylists.append(status[xpos][ypos][i])\n",
        "  max_value = max(mylists)\n",
        "  print(max_value)\n",
        "  heremax = [i for i in range(len(mylists)) if mylists[i]==max_value]\n",
        "  size = len(heremax)\n",
        "  print(heremax)\n",
        "  mypos = random.randint(0, size-1)\n",
        "  max_index = heremax[mypos]\n",
        "  print(max_index)\n",
        "\n",
        "findMaxAction(0,0)\n",
        "\n",
        "  "
      ],
      "execution_count": 0,
      "outputs": [
        {
          "output_type": "stream",
          "text": [
            "[[[0. 0. 0. 0.]\n",
            "  [0. 0. 0. 0.]\n",
            "  [0. 0. 0. 0.]]\n",
            "\n",
            " [[0. 0. 0. 0.]\n",
            "  [0. 0. 0. 0.]\n",
            "  [0. 0. 0. 0.]]\n",
            "\n",
            " [[0. 0. 0. 0.]\n",
            "  [0. 0. 0. 0.]\n",
            "  [0. 0. 0. 0.]]]\n",
            "[[[1. 1. 1. 1.]\n",
            "  [0. 0. 0. 0.]\n",
            "  [0. 0. 0. 0.]]\n",
            "\n",
            " [[0. 0. 0. 0.]\n",
            "  [0. 0. 0. 0.]\n",
            "  [0. 0. 0. 0.]]\n",
            "\n",
            " [[0. 0. 0. 0.]\n",
            "  [0. 0. 0. 0.]\n",
            "  [0. 0. 0. 0.]]]\n",
            "[1. 1. 1. 1.]\n",
            "5.0\n",
            "[0, 1]\n",
            "0\n"
          ],
          "name": "stdout"
        }
      ]
    },
    {
      "cell_type": "markdown",
      "metadata": {
        "id": "Q2l2nQVbdBC7",
        "colab_type": "text"
      },
      "source": [
        ""
      ]
    },
    {
      "cell_type": "code",
      "metadata": {
        "id": "gn6fTp_MIjm0",
        "colab_type": "code",
        "colab": {}
      },
      "source": [
        ""
      ],
      "execution_count": 0,
      "outputs": []
    },
    {
      "cell_type": "code",
      "metadata": {
        "id": "KKB5ycgxIkKS",
        "colab_type": "code",
        "colab": {}
      },
      "source": [
        ""
      ],
      "execution_count": 0,
      "outputs": []
    }
  ]
}